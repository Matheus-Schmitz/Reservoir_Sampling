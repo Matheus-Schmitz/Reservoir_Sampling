{
 "cells": [
  {
   "cell_type": "markdown",
   "id": "driven-cattle",
   "metadata": {},
   "source": [
    "# Reservoir Sampling"
   ]
  },
  {
   "cell_type": "markdown",
   "id": "fatty-coffee",
   "metadata": {},
   "source": [
    "Matheus Schmitz\n",
    "<br><a href=\"https://www.linkedin.com/in/matheusschmitz/\">LinkedIn</a></br>\n",
    "<br><a href=\"https://matheus-schmitz.github.io/\">Github Portfolio</a></br>"
   ]
  },
  {
   "cell_type": "markdown",
   "id": "legendary-basics",
   "metadata": {},
   "source": [
    "## Blackbox\n",
    "\n",
    "Create a blackbox to simulate incoming an incoming stream of data\n"
   ]
  },
  {
   "cell_type": "code",
   "execution_count": 1,
   "id": "developing-thumbnail",
   "metadata": {},
   "outputs": [],
   "source": [
    "import random\n",
    "random.seed(553)\n",
    "import sys\n",
    "from tqdm import tqdm\n",
    "\n",
    "class BlackBox:\n",
    "\n",
    "    def ask(self, file, num):\n",
    "        lines = open(file,'r').readlines()\n",
    "        users = [0 for i in range(num)]\n",
    "        for i in range(num):\n",
    "            users[i] = lines[random.randint(0, len(lines) - 1)].rstrip(\"\\n\")\n",
    "        return users"
   ]
  },
  {
   "cell_type": "code",
   "execution_count": 2,
   "id": "secure-dylan",
   "metadata": {},
   "outputs": [],
   "source": [
    "# Blackbox\n",
    "BB = BlackBox()"
   ]
  },
  {
   "cell_type": "markdown",
   "id": "printable-malpractice",
   "metadata": {},
   "source": [
    "## Load Data"
   ]
  },
  {
   "cell_type": "code",
   "execution_count": 3,
   "id": "romance-correspondence",
   "metadata": {},
   "outputs": [],
   "source": [
    "# Read user inputs\n",
    "input_filename = \"publicdata/users.txt\"\n",
    "stream_size = 300\n",
    "num_of_asks = 30\n",
    "output_filename = \"reservoir.csv\""
   ]
  },
  {
   "cell_type": "code",
   "execution_count": 4,
   "id": "damaged-greece",
   "metadata": {},
   "outputs": [],
   "source": [
    "# Define reservoir size\n",
    "reservoir_size = 100"
   ]
  },
  {
   "cell_type": "code",
   "execution_count": 5,
   "id": "liable-freight",
   "metadata": {},
   "outputs": [],
   "source": [
    "# List to store current items in the reservoir\n",
    "reservoir = []"
   ]
  },
  {
   "cell_type": "code",
   "execution_count": 6,
   "id": "recent-knife",
   "metadata": {},
   "outputs": [],
   "source": [
    "# Global variable tracking the sequence number of the incoming users\n",
    "sequence_number = 0"
   ]
  },
  {
   "cell_type": "markdown",
   "id": "superb-river",
   "metadata": {},
   "source": [
    "## Reservoir Sampling on the Incoming Data Stream\n",
    "\n",
    "Keep track of samples at indexes 0, 20, 40, 60 and 80"
   ]
  },
  {
   "cell_type": "code",
   "execution_count": 7,
   "id": "rising-links",
   "metadata": {},
   "outputs": [],
   "source": [
    "# Before beginning to iterate, write the column headers\n",
    "with open(output_filename, \"w\") as f_out:\n",
    "    f_out.write(\"seqnum,0_id,20_id,40_id,60_id,80_id\")"
   ]
  },
  {
   "cell_type": "code",
   "execution_count": 8,
   "id": "treated-judgment",
   "metadata": {},
   "outputs": [
    {
     "name": "stderr",
     "output_type": "stream",
     "text": [
      "100%|██████████████████████████████████████████████████████████████████████████████████| 30/30 [00:16<00:00,  1.79it/s]\n"
     ]
    }
   ],
   "source": [
    "# Iterate over the asks\n",
    "for ask_iteration in tqdm(range(num_of_asks)):\n",
    "    stream_users = BB.ask(input_filename, stream_size)\n",
    "\n",
    "    # Go over all users for this stream\n",
    "    for user in stream_users:\n",
    "\n",
    "        # Update the sequence number for the current user\n",
    "        sequence_number += 1\n",
    "\n",
    "        # For all long as the reservoir has less samples that then cap, just keep adding users\n",
    "        if len(reservoir) < reservoir_size:\n",
    "            reservoir.append(user)\n",
    "\n",
    "        # Once the reservoir fills, start sampling who gets in and who gets out\n",
    "        else:\n",
    "            # Sample if the next user should get in the reservoir\n",
    "            if random.random() < (float(reservoir_size)/float(sequence_number)):\n",
    "\n",
    "                # If the new user was chosen go get in, sample the index of the user to be swapped for the new user\n",
    "                swap_idx =  random.randint(0, reservoir_size-1)\n",
    "\n",
    "                # Then make the swap\n",
    "                reservoir[swap_idx] = user\n",
    "\n",
    "        # Every time you receive 100 users, you sohuld print the current stage of your reservoir to a CSV file\n",
    "        if sequence_number % 100 == 0:\n",
    "\n",
    "            # Then append the results to the output file\n",
    "            with open(output_filename, \"a\") as f_out:\n",
    "                f_out.write(\"\\n\" + str(sequence_number) + \",\" + reservoir[0].strip() + \",\" + reservoir[20].strip() + \",\" + reservoir[40].strip() + \",\" + reservoir[60].strip() + \",\" + reservoir[80].strip())"
   ]
  },
  {
   "cell_type": "code",
   "execution_count": 9,
   "id": "partial-lighter",
   "metadata": {},
   "outputs": [
    {
     "data": {
      "text/plain": [
       "['RAnRkCbg2IpKuw9kI52REA',\n",
       " 'cN5tSE-pbeHMpDclFcomkw',\n",
       " 'lOEQm5F6VkBA-hKoHwlJTA',\n",
       " 'swDv8K6G2as45aQiBsTWIw',\n",
       " 'KuouIPezf88cwmdWLx5wpA',\n",
       " 'A138Hn_kaiUpKrQ15RsfMg',\n",
       " 'aHiSoFbecen0MSHOYzMueA',\n",
       " '37jh6BgTy0yD2bRvlDXaqg',\n",
       " 'caTtxvZCjUmHkrCwbPN0DQ',\n",
       " 'D-swfXVezApoUv_GV2Ytig',\n",
       " 'BXlxwq_nrdXG3U2l9LbsXw',\n",
       " 'cF-rZscoEV5zV5lMTO-Icw',\n",
       " '3uQ69HLjnorXVXLq31MwZQ',\n",
       " 'zbSeUkk0sk6CXqcCz5umzA',\n",
       " 'cneJHTyQxoH1OFUgXDwMmw',\n",
       " 'uc1cZVUofrETCQWcWQGGNQ',\n",
       " 'kd_XkGViUDgPOMpCrXWX6A',\n",
       " '69V-c1iSlBv6ndIOO8ydQg',\n",
       " '64Zj7c9_SiDFvP8LXq7nLA',\n",
       " '-o-9Bw-dLc1dVMjSlAEGKg',\n",
       " 'qwBpDbANUmmmP4POrOpt4A',\n",
       " 'j0Y4htBL67yb7gyIo59wxw',\n",
       " 'P4v1zgRowuRO39RZCBMTHg',\n",
       " 'xs1MftEQfjbjMeUIm5Xicg',\n",
       " 'VwliPnWAKsEiKtOXSBHJVA',\n",
       " 'QLpgnKJi-rDTURSWgTy34w',\n",
       " 'rowQ1KZEGVhnwPQQpzEEgA',\n",
       " 'pLCX6K0M1DbYeUTtYVQaGg',\n",
       " 'wZ174oyhyvEu9ax60uPHCw',\n",
       " 'ZVqLpWf8VkkO6Dliv7Bqig',\n",
       " 'zBvxW_C-8AW-HY_lax3pFA',\n",
       " 'rxSKHOP765ro647q6mLUwg',\n",
       " 'j4kzSywHgrYLIe8I-najPg',\n",
       " 'W4mA4jrv2NdGiSnESgSzSg',\n",
       " 'ZU1t9G4LmpJg4UdEE__QgA',\n",
       " 'v9rKMNtQOkWR8dIoj7tuAw',\n",
       " 'I1LE5eCoRJkwmG9j3OrWpg',\n",
       " 'Z7J2VH9qHSH00q8ivAxM_w',\n",
       " '8sY4CB3PzBUvvwHMEPIXIg',\n",
       " 'QwGb_Yh4gkWBcvULzyraKg',\n",
       " 'pxqIvb3q6TLB7HYqCQf8nA',\n",
       " 'RXbkJ7Fw88i0SeTMMV-wZg',\n",
       " 'Z9j54kFixrbxo_gpytQEBQ',\n",
       " 'TZba2UvQfGBfb47AmtSHCQ',\n",
       " 'eLdnsLtaoIOh0wSol9HAOQ',\n",
       " 'fgA5A2k9mar_jmgpJHEY2w',\n",
       " 'R742SmIZuhpZ5HM8BJZ1lQ',\n",
       " 'vPwBMzuIBZWxh9PgJGsVQw',\n",
       " '-jW3kc6MI25lCdjYX43xoA',\n",
       " 'SFPS_oPyuP1jZBH1gUtZ5g',\n",
       " 'dlTXAIqEy5kKIoWRDIdWAg',\n",
       " 'FS5LYszMJm1VN6aUzA8Plg',\n",
       " 'yxM8-6K6MxjqacGIlpliQA',\n",
       " 'wqo5uQeR_FV2y9PzLntk2w',\n",
       " 'X7uvV7tD-n5z5X3zuB9_LA',\n",
       " 'LhYK85zdyADqg_IfKytpNw',\n",
       " 'PhOOyh8VMP6p3V318c136w',\n",
       " 'AO9-DnZ9fDLCy7I9oUeu5g',\n",
       " 'ptLXdIU29GmvOQbO7-1gVg',\n",
       " 'h2iZyeVr9o89v6Fdus83YA',\n",
       " 'KSKgMxI3X0Y47P2DkBqa_g',\n",
       " 'QsaTAVqVmDVHE6TVt_tOiw',\n",
       " 'uuXtyNBB0Iyo1ep4O6_PLw',\n",
       " 'y4avOR1SFUP6jq_ZKVxg7Q',\n",
       " 'N--0JJ4eM3zR4_OYrUukPw',\n",
       " 'Ee2IUa0a0zmnNQcOFSbgBw',\n",
       " 'cLZoKI_5woHUR86IdGnruA',\n",
       " 'ZlpAs_O4nYhIzXTi4u8tzw',\n",
       " 'c0fvMfnZx22IPeriu8pAYA',\n",
       " 'Ld3hEWtpOlWFbhKPDZoGhg',\n",
       " '40uYO5TP0PY-wol8rRA-xw',\n",
       " 'qrxlRngEZs2s7SwRBOr3Qg',\n",
       " 'swM1TW_7mrPk6UJnTa4SNw',\n",
       " 'LNNy7-P3Oy3kvic3PIfpXw',\n",
       " 'TdxJDq4nZUKWHaQykbHGuw',\n",
       " 'FdYMdmKZp5vDDLSOqHA-AA',\n",
       " 'DySKpJO5I-QlXA7X8mq0ew',\n",
       " '3Wy5NCi5QPLq-45pYKCoiA',\n",
       " 'iOySchLVs7WEsy4OvblB8A',\n",
       " '6nf3HEDCCh4QzjNxxqOHuw',\n",
       " 'wxtqpfi92UACR_T4TwaRNQ',\n",
       " 'mDr1am5sq7k3j3B-jTFtQA',\n",
       " 'W4nxkeLQhwwgNcxaY_BE0Q',\n",
       " 'WiSuzrzM0-C-FT5XXATy6Q',\n",
       " '0WggYoVzoTHgmP8BR00x1w',\n",
       " 'RkUEBSBKJfkoCfAsU8jV9A',\n",
       " 'kJgY21Mv6YobTyr1xMh01g',\n",
       " 'npjrtfGnYD05xOLqzzmbYw',\n",
       " '2tSk90jdfEz8ZTeVTDn8Vw',\n",
       " 'wAF3-WPGH5YfMDHGeE29ug',\n",
       " 'q87CAHhJitc9hsjEVd7C_w',\n",
       " 'Qj2M0LooW7ayosx2fP6D8A',\n",
       " 'pJ-8OzZ2lQp5zTFcxcfGgA',\n",
       " 'ep_o6N7o3RO4b0mAo1HXTg',\n",
       " 'lH29fo_3m9vCHmgIo-_CEA',\n",
       " 'ic3XjmGdP28V8GoAS3Hazw',\n",
       " '5RGyR_eA1aqO_aomBhch1A',\n",
       " 'OHfchsRTYUvv7_LpMN3j8Q',\n",
       " '-uhJxd_sX5wds2yT6m7JsQ',\n",
       " 'TOn4EF7avRSfRDLJF8jNzw']"
      ]
     },
     "execution_count": 9,
     "metadata": {},
     "output_type": "execute_result"
    }
   ],
   "source": [
    "# View the current status of the reservoir\n",
    "reservoir"
   ]
  },
  {
   "cell_type": "markdown",
   "id": "separated-combat",
   "metadata": {},
   "source": [
    "# End\n",
    "Matheus Schmitz\n",
    "<br><a href=\"https://www.linkedin.com/in/matheusschmitz/\">LinkedIn</a></br>\n",
    "<br><a href=\"https://matheus-schmitz.github.io/\">Github Portfolio</a></br>"
   ]
  }
 ],
 "metadata": {
  "kernelspec": {
   "display_name": "Python 3",
   "language": "python",
   "name": "python3"
  },
  "language_info": {
   "codemirror_mode": {
    "name": "ipython",
    "version": 3
   },
   "file_extension": ".py",
   "mimetype": "text/x-python",
   "name": "python",
   "nbconvert_exporter": "python",
   "pygments_lexer": "ipython3",
   "version": "3.7.9"
  }
 },
 "nbformat": 4,
 "nbformat_minor": 5
}
