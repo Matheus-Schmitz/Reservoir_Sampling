{
 "cells": [
  {
   "cell_type": "code",
   "execution_count": 2,
   "id": "growing-constitution",
   "metadata": {},
   "outputs": [],
   "source": [
    "import sys\n",
    "import json\n",
    "import binascii\n",
    "import random"
   ]
  },
  {
   "cell_type": "code",
   "execution_count": 21,
   "id": "transsexual-moisture",
   "metadata": {},
   "outputs": [],
   "source": [
    "from blackbox import BlackBox"
   ]
  },
  {
   "cell_type": "code",
   "execution_count": 3,
   "id": "sublime-daisy",
   "metadata": {},
   "outputs": [],
   "source": [
    "input_filename = \"publicdata/users.txt\"\n",
    "stream_size = 100\n",
    "num_of_asks = 30\n",
    "output_filename = \"python1.csv\""
   ]
  },
  {
   "cell_type": "code",
   "execution_count": 15,
   "id": "capable-platinum",
   "metadata": {},
   "outputs": [],
   "source": [
    "filter_bit_array= [0 for _ in range(69997)]\n",
    "m = len(filter_bit_array)"
   ]
  },
  {
   "cell_type": "code",
   "execution_count": 34,
   "id": "essential-medline",
   "metadata": {},
   "outputs": [],
   "source": [
    "seen_users_truth = set()\n",
    "seen_users_preds = set()\n",
    "false_positive = 0\n",
    "true_negative = 0"
   ]
  },
  {
   "cell_type": "code",
   "execution_count": 8,
   "id": "invalid-jason",
   "metadata": {},
   "outputs": [],
   "source": [
    "def myhashs(s):\n",
    "    result = []\n",
    "    for f in hash_function_list:\n",
    "        result.append(f(s))\n",
    "    return result"
   ]
  },
  {
   "cell_type": "code",
   "execution_count": 13,
   "id": "dying-edgar",
   "metadata": {},
   "outputs": [],
   "source": [
    "hash_functions= []\n",
    "for i in range(0,10):\n",
    "\th= []\n",
    "\tfor j in range(0,2):\n",
    "\t\tr= random.randint(1,100)\n",
    "\t\th.append(r)\n",
    "\thash_functions.append(h)"
   ]
  },
  {
   "cell_type": "code",
   "execution_count": 23,
   "id": "dental-summary",
   "metadata": {},
   "outputs": [
    {
     "data": {
      "text/plain": [
       "['OtVpv3R_HTS4T72E43rHOw', 'a3yegP5ivlOl0s3yEO5yzg', 'ua_JpDojWbztWXvqpoWkIw']"
      ]
     },
     "execution_count": 23,
     "metadata": {},
     "output_type": "execute_result"
    }
   ],
   "source": [
    "BB = BlackBox()\n",
    "stream_users = BB.ask(input_filename, 3)\n",
    "stream_users"
   ]
  },
  {
   "cell_type": "code",
   "execution_count": 24,
   "id": "cellular-divide",
   "metadata": {},
   "outputs": [],
   "source": [
    "user = 'OtVpv3R_HTS4T72E43rHOw'"
   ]
  },
  {
   "cell_type": "code",
   "execution_count": 26,
   "id": "centered-mitchell",
   "metadata": {},
   "outputs": [
    {
     "data": {
      "text/plain": [
       "29727436784497032073983372697303362095926496937398135"
      ]
     },
     "execution_count": 26,
     "metadata": {},
     "output_type": "execute_result"
    }
   ],
   "source": [
    "user_int = int(binascii.hexlify(user.encode('utf8')),16)\n",
    "user_int"
   ]
  },
  {
   "cell_type": "code",
   "execution_count": 27,
   "id": "local-exception",
   "metadata": {},
   "outputs": [
    {
     "data": {
      "text/plain": [
       "[69536, 45939, 40925, 24599, 22901, 14505, 49815, 59966, 36415, 21790]"
      ]
     },
     "execution_count": 27,
     "metadata": {},
     "output_type": "execute_result"
    }
   ],
   "source": [
    "hashvals= []\n",
    "for i in hash_functions:\n",
    "    hashvals.append((i[0] * user_int + i[1]) % m)\n",
    "hashvals"
   ]
  },
  {
   "cell_type": "code",
   "execution_count": 42,
   "id": "minor-headline",
   "metadata": {},
   "outputs": [
    {
     "data": {
      "text/plain": [
       "10"
      ]
     },
     "execution_count": 42,
     "metadata": {},
     "output_type": "execute_result"
    }
   ],
   "source": [
    "ctr = 0\n",
    "for i in hashvals:\n",
    "    if(filter_bit_array[i]==1):\n",
    "        ctr+= 1\n",
    "ctr"
   ]
  },
  {
   "cell_type": "code",
   "execution_count": 43,
   "id": "binding-topic",
   "metadata": {},
   "outputs": [],
   "source": [
    "# If I have actually seen the user before, then I should not test the match, as surely it will match because it should\n",
    "# In this case it would be a true positive, which I'm not interested in\n",
    "if(user not in seen_users_truth):\n",
    "    if(ctr==len(hashvals)):\n",
    "        false_positive+= 1\n",
    "        seen_users_preds.add(user)\n",
    "    else:\n",
    "        true_negative+= 1"
   ]
  },
  {
   "cell_type": "code",
   "execution_count": 47,
   "id": "uniform-brighton",
   "metadata": {},
   "outputs": [
    {
     "data": {
      "text/plain": [
       "{'OtVpv3R_HTS4T72E43rHOw'}"
      ]
     },
     "execution_count": 47,
     "metadata": {},
     "output_type": "execute_result"
    }
   ],
   "source": [
    "seen_users_truth"
   ]
  },
  {
   "cell_type": "code",
   "execution_count": 45,
   "id": "smaller-beaver",
   "metadata": {},
   "outputs": [
    {
     "data": {
      "text/plain": [
       "{'OtVpv3R_HTS4T72E43rHOw'}"
      ]
     },
     "execution_count": 45,
     "metadata": {},
     "output_type": "execute_result"
    }
   ],
   "source": [
    "seen_users_preds"
   ]
  },
  {
   "cell_type": "code",
   "execution_count": 38,
   "id": "adjacent-cookbook",
   "metadata": {},
   "outputs": [],
   "source": [
    "# Update the Bloom Filter\n",
    "for i in hashvals:\n",
    "    if(filter_bit_array[i]!=1):\n",
    "        filter_bit_array[i]=1"
   ]
  },
  {
   "cell_type": "code",
   "execution_count": 46,
   "id": "technological-kennedy",
   "metadata": {},
   "outputs": [],
   "source": [
    "seen_users_truth.add(user)"
   ]
  },
  {
   "cell_type": "code",
   "execution_count": 51,
   "id": "thirty-constant",
   "metadata": {},
   "outputs": [],
   "source": [
    "hash_function_list = [[random.randint(1, 100), random.randint(1, 100)] for _ in range(10)]"
   ]
  },
  {
   "cell_type": "code",
   "execution_count": 53,
   "id": "warming-railway",
   "metadata": {},
   "outputs": [
    {
     "data": {
      "text/plain": [
       "[26271, 38084, 39718, 50940, 19030, 44242, 53244, 39224, 27932, 35817]"
      ]
     },
     "execution_count": 53,
     "metadata": {},
     "output_type": "execute_result"
    }
   ],
   "source": [
    "hashvals = []\n",
    "for i in hash_function_list:\n",
    "    hashvals.append((i[0] * user_int + i[1]) % m)\n",
    "hashvals"
   ]
  },
  {
   "cell_type": "code",
   "execution_count": null,
   "id": "egyptian-handbook",
   "metadata": {},
   "outputs": [],
   "source": [
    "# Generate parameters for the hash functions\n",
    "hash_params = [[random.randint(1, 100), random.randint(1, 100)] for _ in range(10)]\n"
   ]
  },
  {
   "cell_type": "code",
   "execution_count": 62,
   "id": "macro-binding",
   "metadata": {},
   "outputs": [],
   "source": [
    "def myhashs(user):\n",
    "\n",
    "    # Encode user to int\n",
    "    user_int = int(binascii.hexlify(user.encode('utf8')),16)\n",
    "\n",
    "    # Generate hash values\n",
    "    result = []\n",
    "    for f in hash_function_list:\n",
    "        result.append((f[0] * user_int + f[1]) % m)\n",
    "    \n",
    "    return result"
   ]
  },
  {
   "cell_type": "code",
   "execution_count": 63,
   "id": "automatic-continuity",
   "metadata": {},
   "outputs": [
    {
     "data": {
      "text/plain": [
       "[42338, 4058, 18535, 45380, 49441, 57307, 64808, 13760, 56842, 54664]"
      ]
     },
     "execution_count": 63,
     "metadata": {},
     "output_type": "execute_result"
    }
   ],
   "source": [
    "myhashs('Matheus')"
   ]
  },
  {
   "cell_type": "code",
   "execution_count": null,
   "id": "angry-adventure",
   "metadata": {},
   "outputs": [],
   "source": []
  }
 ],
 "metadata": {
  "kernelspec": {
   "display_name": "Python 3",
   "language": "python",
   "name": "python3"
  },
  "language_info": {
   "codemirror_mode": {
    "name": "ipython",
    "version": 3
   },
   "file_extension": ".py",
   "mimetype": "text/x-python",
   "name": "python",
   "nbconvert_exporter": "python",
   "pygments_lexer": "ipython3",
   "version": "3.7.9"
  }
 },
 "nbformat": 4,
 "nbformat_minor": 5
}
