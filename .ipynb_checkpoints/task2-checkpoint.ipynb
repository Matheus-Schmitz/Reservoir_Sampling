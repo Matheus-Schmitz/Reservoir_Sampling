{
 "cells": [
  {
   "cell_type": "code",
   "execution_count": 1,
   "id": "informational-delta",
   "metadata": {},
   "outputs": [],
   "source": [
    "import sys\n",
    "import json\n",
    "import binascii\n",
    "import random\n",
    "import math\n",
    "from blackbox import BlackBox"
   ]
  },
  {
   "cell_type": "code",
   "execution_count": null,
   "id": "modular-season",
   "metadata": {},
   "outputs": [],
   "source": [
    "# Read user inputs\n",
    "input_filename = 0\n",
    "stream_size = 3\n",
    "num_of_asks = 2\n",
    "output_filename = 0"
   ]
  }
 ],
 "metadata": {
  "kernelspec": {
   "display_name": "Python 3",
   "language": "python",
   "name": "python3"
  },
  "language_info": {
   "codemirror_mode": {
    "name": "ipython",
    "version": 3
   },
   "file_extension": ".py",
   "mimetype": "text/x-python",
   "name": "python",
   "nbconvert_exporter": "python",
   "pygments_lexer": "ipython3",
   "version": "3.7.9"
  }
 },
 "nbformat": 4,
 "nbformat_minor": 5
}
