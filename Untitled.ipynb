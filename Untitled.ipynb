{
 "cells": [
  {
   "cell_type": "code",
   "execution_count": 1,
   "id": "increased-communications",
   "metadata": {},
   "outputs": [],
   "source": [
    "from blackbox import BlackBox\n",
    "import sys\n",
    "import binascii\n",
    "import random\n",
    "import time\n",
    "\n",
    "# Sample sized is fixed at 100\n",
    "sample_size = 100\n",
    "\n",
    "# Global variable tacking the sequence number of the incoming users\n",
    "sequence_num = 0"
   ]
  },
  {
   "cell_type": "code",
   "execution_count": 3,
   "id": "sublime-fleece",
   "metadata": {},
   "outputs": [
    {
     "name": "stdout",
     "output_type": "stream",
     "text": [
      "Duration: 11.362530946731567\n"
     ]
    }
   ],
   "source": [
    "random.seed(553)\n",
    "\n",
    "start_time = time.time()\n",
    "\n",
    "# Read user inputs\n",
    "input_filename = 'publicdata/users.txt'\n",
    "stream_size = 300\n",
    "num_of_asks = 30\n",
    "output_filename = 'python3.csv'\n",
    "\n",
    "# List to store current items in the reservoir\n",
    "reservoir = []\n",
    "\n",
    "# Before beginning to iterate, write the column headers\n",
    "with open(output_filename, \"w\") as f_out:\n",
    "    f_out.write(\"seqnum,0_id,20_id,40_id,60_id,80_id\")\n",
    "\n",
    "# Blackbox\n",
    "BB = BlackBox()\n",
    "\n",
    "# Iterate over the asks\n",
    "for ask_iteration in range(num_of_asks):\n",
    "    stream_users = BB.ask(input_filename, stream_size)\n",
    "\n",
    "    # Go over all users for this stream\n",
    "    for user in stream_users:\n",
    "\n",
    "        # Update the sequence number for the current user\n",
    "        sequence_num += 1\n",
    "\n",
    "        # For all long as the reservoir has less samples that then cap, just keep adding users\n",
    "        if len(reservoir) < sample_size:\n",
    "            reservoir.append(user)\n",
    "\n",
    "        # Once the reservoir fills, start sampling who gets in and who gets out\n",
    "        else:\n",
    "            # Sample if the next user should get in the reservoir\n",
    "            if random.random() < sample_size/stream_size:\n",
    "\n",
    "                # If the new user was chosen go get in, sample the index of the user to be swapped for the new user\n",
    "                swap_idx =  random.randint(0, sample_size-1)\n",
    "\n",
    "                # Then make the swap\n",
    "                reservoir[swap_idx] = user\n",
    "\n",
    "        # Every time you receive 100 users, you sohuld print the current stage of your reservoir to a CSV file\n",
    "        if sequence_num % 100 == 0:\n",
    "\n",
    "            # Then append the results to the output file\n",
    "            with open(output_filename, \"a\") as f_out:\n",
    "                f_out.write(\"\\n\" + str(sequence_num) + \",\" + reservoir[0] + \",\" + reservoir[20] + \",\" + reservoir[40] + \",\" + reservoir[60] + \",\" + reservoir[80])\n",
    "\n",
    "# Measure the total time taken and report it\n",
    "time_elapsed = time.time() - start_time\n",
    "print('Duration: {}'.format(time_elapsed))"
   ]
  },
  {
   "cell_type": "code",
   "execution_count": null,
   "id": "returning-officer",
   "metadata": {},
   "outputs": [],
   "source": []
  }
 ],
 "metadata": {
  "kernelspec": {
   "display_name": "Python 3",
   "language": "python",
   "name": "python3"
  },
  "language_info": {
   "codemirror_mode": {
    "name": "ipython",
    "version": 3
   },
   "file_extension": ".py",
   "mimetype": "text/x-python",
   "name": "python",
   "nbconvert_exporter": "python",
   "pygments_lexer": "ipython3",
   "version": "3.7.9"
  }
 },
 "nbformat": 4,
 "nbformat_minor": 5
}
