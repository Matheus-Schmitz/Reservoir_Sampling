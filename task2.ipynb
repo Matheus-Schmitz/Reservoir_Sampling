{
 "cells": [
  {
   "cell_type": "code",
   "execution_count": 49,
   "id": "found-treasurer",
   "metadata": {},
   "outputs": [],
   "source": [
    "from blackbox import BlackBox\n",
    "import sys\n",
    "import binascii\n",
    "import random\n",
    "import math\n",
    "import time"
   ]
  },
  {
   "cell_type": "code",
   "execution_count": 106,
   "id": "original-africa",
   "metadata": {},
   "outputs": [],
   "source": [
    "# Hyperparameters to create hash functions\n",
    "n_hash = 36\n",
    "n_groups = 4\n",
    "n_rows = int(n_hash/n_groups)\n",
    "m = 300"
   ]
  },
  {
   "cell_type": "code",
   "execution_count": 107,
   "id": "incident-trouble",
   "metadata": {},
   "outputs": [],
   "source": [
    "# Generate values for the hash functions\n",
    "hash_params = [[random.randint(1, 100), random.randint(1, 100)] for _ in range(n_hash)]"
   ]
  },
  {
   "cell_type": "code",
   "execution_count": 108,
   "id": "light-imagination",
   "metadata": {},
   "outputs": [],
   "source": [
    "def myhashs(user):\n",
    "\n",
    "    # Encode user to int\n",
    "    user_int = int(binascii.hexlify(user.encode('utf8')),16)\n",
    "\n",
    "    # Generate hash values\n",
    "    result = []\n",
    "    for f in hash_params:\n",
    "        result.append((f[0] * user_int + f[1]) % m)\n",
    "    \n",
    "    return result"
   ]
  },
  {
   "cell_type": "code",
   "execution_count": 109,
   "id": "mineral-venue",
   "metadata": {},
   "outputs": [],
   "source": [
    "def count_trailing_zeroes(mystr):\n",
    "    return len(str(mystr)) - len(str(mystr).rstrip('0'))"
   ]
  },
  {
   "cell_type": "code",
   "execution_count": 110,
   "id": "exotic-worker",
   "metadata": {},
   "outputs": [],
   "source": [
    "start_time = time.time()\n",
    "\n",
    "# Read user inputs\n",
    "input_filename = 'publicdata/users.txt'\n",
    "stream_size = 30\n",
    "num_of_asks = 1\n",
    "output_filename = 'python2b.csv'"
   ]
  },
  {
   "cell_type": "code",
   "execution_count": 111,
   "id": "biblical-typing",
   "metadata": {},
   "outputs": [],
   "source": [
    "# Before beginning to iterate, write the column headers\n",
    "with open(output_filename, \"w\") as f_out:\n",
    "    f_out.write(\"Time,Ground Truth,Estimation\")"
   ]
  },
  {
   "cell_type": "code",
   "execution_count": 113,
   "id": "saving-board",
   "metadata": {},
   "outputs": [
    {
     "name": "stdout",
     "output_type": "stream",
     "text": [
      "[[42, 130, 173, 128, 105, 130, 65, 88, 112, 55, 51, 269, 288, 44, 231, 50, 247, 0, 86, 238, 112, 58, 153, 246, 12, 246, 141, 73, 284, 263, 258, 231, 15, 34, 12, 32], [254, 10, 37, 156, 289, 206, 5, 72, 164, 15, 267, 165, 12, 68, 119, 118, 75, 20, 134, 38, 296, 190, 141, 282, 272, 74, 65, 145, 180, 23, 150, 247, 15, 146, 144, 56], [22, 130, 33, 148, 65, 270, 65, 248, 192, 155, 291, 109, 48, 104, 151, 270, 167, 100, 206, 138, 72, 238, 273, 186, 112, 166, 1, 253, 124, 263, 138, 71, 15, 114, 192, 92], [98, 70, 205, 192, 97, 218, 185, 180, 188, 135, 159, 117, 0, 56, 275, 34, 111, 260, 110, 38, 104, 274, 297, 114, 92, 110, 53, 109, 132, 143, 54, 139, 15, 290, 228, 44], [34, 10, 297, 76, 149, 246, 5, 32, 144, 215, 207, 205, 72, 128, 139, 138, 95, 220, 254, 138, 156, 70, 261, 222, 172, 94, 25, 25, 220, 23, 30, 287, 15, 126, 24, 116], [242, 130, 73, 228, 205, 230, 65, 288, 212, 255, 51, 69, 288, 44, 131, 250, 147, 200, 86, 38, 212, 58, 153, 246, 212, 146, 41, 73, 84, 263, 258, 31, 15, 134, 12, 32], [26, 190, 121, 24, 193, 62, 245, 276, 176, 75, 63, 141, 156, 212, 47, 226, 243, 140, 122, 38, 200, 82, 69, 198, 32, 242, 209, 277, 156, 83, 102, 43, 15, 218, 36, 200], [160, 250, 219, 70, 131, 294, 125, 164, 240, 95, 75, 163, 174, 230, 13, 102, 89, 280, 8, 138, 138, 256, 285, 0, 52, 88, 127, 31, 178, 53, 246, 5, 165, 102, 60, 218], [36, 190, 191, 14, 63, 142, 245, 196, 136, 175, 243, 71, 126, 182, 237, 266, 133, 240, 212, 238, 70, 292, 9, 228, 132, 132, 279, 187, 86, 233, 162, 273, 165, 178, 96, 170], [236, 190, 91, 114, 163, 242, 245, 96, 236, 75, 243, 171, 126, 182, 137, 166, 33, 140, 212, 38, 170, 292, 9, 228, 32, 32, 179, 187, 186, 233, 162, 73, 165, 278, 96, 170], [102, 130, 293, 68, 225, 10, 65, 208, 172, 55, 231, 149, 108, 164, 171, 290, 187, 0, 26, 238, 232, 118, 93, 126, 12, 186, 261, 133, 164, 263, 18, 111, 15, 94, 72, 152], [190, 250, 129, 40, 41, 234, 125, 224, 120, 95, 15, 253, 84, 140, 283, 222, 59, 280, 278, 138, 48, 286, 105, 90, 52, 58, 37, 61, 268, 203, 126, 95, 15, 282, 240, 128], [84, 10, 47, 26, 99, 46, 5, 232, 244, 115, 207, 155, 222, 278, 189, 38, 145, 120, 104, 238, 106, 220, 261, 72, 72, 144, 75, 175, 170, 173, 30, 237, 165, 226, 24, 266], [234, 10, 197, 176, 249, 46, 5, 232, 244, 115, 207, 5, 72, 128, 39, 38, 295, 120, 254, 238, 256, 70, 261, 222, 72, 294, 225, 25, 20, 23, 30, 87, 15, 226, 24, 116], [168, 70, 95, 122, 87, 178, 185, 220, 208, 235, 219, 227, 90, 146, 105, 14, 241, 60, 140, 238, 94, 244, 177, 24, 192, 240, 243, 79, 242, 293, 174, 249, 165, 10, 48, 134], [166, 190, 201, 184, 173, 282, 245, 56, 216, 275, 183, 61, 36, 92, 7, 186, 203, 40, 182, 138, 180, 22, 129, 18, 232, 202, 289, 217, 76, 83, 42, 263, 15, 258, 276, 80], [222, 130, 233, 248, 165, 70, 65, 148, 292, 55, 291, 209, 48, 104, 51, 170, 67, 0, 206, 238, 172, 238, 273, 186, 12, 66, 201, 253, 224, 263, 138, 171, 15, 214, 192, 92], [38, 70, 85, 252, 277, 38, 185, 60, 128, 135, 279, 237, 180, 236, 35, 94, 171, 260, 170, 38, 284, 214, 57, 234, 92, 170, 233, 49, 252, 143, 294, 259, 15, 230, 168, 224], [156, 190, 131, 194, 3, 202, 245, 136, 256, 175, 3, 131, 66, 122, 117, 146, 13, 240, 92, 238, 10, 112, 189, 288, 132, 12, 219, 7, 146, 233, 282, 33, 165, 298, 216, 110], [278, 70, 265, 12, 157, 158, 185, 240, 68, 135, 99, 57, 60, 116, 95, 154, 231, 260, 230, 38, 164, 154, 117, 54, 92, 230, 113, 289, 72, 143, 234, 79, 15, 170, 108, 104], [170, 250, 289, 60, 1, 74, 125, 84, 200, 195, 255, 93, 144, 200, 203, 142, 279, 80, 98, 38, 8, 166, 225, 30, 152, 278, 197, 241, 108, 203, 6, 235, 15, 62, 120, 188], [220, 250, 39, 10, 251, 174, 125, 284, 0, 95, 255, 43, 294, 50, 253, 42, 29, 280, 248, 138, 258, 16, 225, 180, 52, 28, 247, 91, 58, 53, 6, 185, 165, 162, 120, 38], [108, 70, 275, 182, 267, 298, 185, 100, 148, 235, 39, 47, 270, 26, 165, 74, 1, 60, 200, 238, 274, 184, 237, 144, 192, 0, 123, 19, 62, 293, 114, 69, 165, 250, 288, 14], [216, 190, 251, 134, 123, 82, 245, 256, 16, 175, 183, 11, 186, 242, 57, 86, 253, 240, 32, 238, 130, 172, 129, 168, 132, 252, 39, 67, 26, 233, 42, 213, 165, 58, 276, 230], [30, 250, 209, 200, 21, 154, 125, 4, 160, 295, 135, 173, 264, 20, 243, 182, 19, 180, 38, 238, 28, 226, 165, 210, 252, 18, 117, 1, 188, 203, 66, 15, 15, 22, 180, 8], [72, 130, 83, 98, 15, 70, 65, 148, 292, 55, 291, 59, 198, 254, 201, 170, 217, 0, 56, 238, 22, 88, 273, 36, 12, 216, 51, 103, 74, 113, 138, 21, 165, 214, 192, 242], [124, 10, 27, 286, 179, 66, 5, 212, 84, 215, 27, 175, 102, 158, 49, 198, 5, 220, 164, 138, 186, 160, 21, 192, 172, 4, 55, 115, 190, 173, 270, 257, 165, 66, 264, 146], [252, 130, 143, 218, 75, 10, 65, 208, 172, 55, 231, 299, 258, 14, 21, 290, 37, 0, 176, 238, 82, 268, 93, 276, 12, 36, 111, 283, 14, 113, 18, 261, 165, 94, 72, 2], [246, 190, 161, 104, 33, 22, 245, 16, 196, 175, 123, 101, 96, 152, 27, 206, 223, 240, 2, 238, 40, 202, 249, 258, 132, 222, 249, 97, 116, 83, 222, 3, 15, 238, 156, 140], [72, 130, 83, 98, 15, 70, 65, 148, 292, 55, 291, 59, 198, 254, 201, 170, 217, 0, 56, 238, 22, 88, 273, 36, 12, 216, 51, 103, 74, 113, 138, 21, 165, 214, 192, 242]]\n",
      "[2.0, 2.0, 1.0, 4.0, 1.0, 2.0, 1.0, 4.0, 4.0, 1.0, 1.0, 1.0, 2.0, 4.0, 1.0, 2.0, 1.0, 4.0, 4.0, 1.0, 4.0, 2.0, 1.0, 2.0, 1.0, 2.0, 1.0, 1.0, 2.0, 1.0, 2.0, 1.0, 1.0, 2.0, 2.0, 4.0]\n",
      "Duration: 8.196336269378662\n"
     ]
    }
   ],
   "source": [
    "# Blackbox\n",
    "BB = BlackBox()\n",
    "\n",
    "# Iterate over the asks\n",
    "for ask_iteration in range(num_of_asks):\n",
    "    stream_users = BB.ask(input_filename, stream_size)\n",
    "\n",
    "    # Set to store all users seen\n",
    "    seen_users_truth = set()\n",
    "\n",
    "    # Lists to store the hash indexes and binary representations generated\n",
    "    hash_idx = []\n",
    "    hash_bin = []\n",
    "\n",
    "    # Go over all users for this stream\n",
    "    for user in stream_users:\n",
    "\n",
    "        # Add the user to the set of seen users\n",
    "        seen_users_truth.add(user)\n",
    "\n",
    "        # Hash the user into values\n",
    "        hashed_idxs = myhashs(user)\n",
    "\n",
    "        # Store all has values for the current iteration (aka current user)\n",
    "        iter_hash_bin = []\n",
    "\n",
    "        # For the current user, get the hashed index and its binary representation\n",
    "        for curr_idx in hashed_idxs:\n",
    "            user_bin = bin(curr_idx)[2:]\n",
    "            iter_hash_bin.append(curr_idx)\n",
    "\n",
    "        # Add the hashed values from the curren iteration (current user) to the list of all hashes\n",
    "        hash_bin.append(iter_hash_bin)\n",
    "    print(hash_bin)\n",
    "    # For each of the generated binary encoding of hash values, calculate the distance based on the number of trailing zeroes\n",
    "    estimated_size_per_hash = []\n",
    "\n",
    "    # Iterate through all hash functions\n",
    "    for curr_hash in range(n_hash):\n",
    "        curr_hash_max_zeroes = 0\n",
    "\n",
    "        # Then, for a given hash function, go over the binary encodings generated for all users\n",
    "        for curr_user in range(len(hash_bin)):\n",
    "\n",
    "            # Count the number of trailing zeroes for the current user with the current hash\n",
    "            curr_user_max_zeroes = count_trailing_zeroes(hash_bin[curr_user][curr_hash])\n",
    "\n",
    "            # If it is longer than the previous max values for the current hash, then update the max value\n",
    "            if curr_user_max_zeroes > curr_hash_max_zeroes:\n",
    "                curr_hash_max_zeroes = curr_user_max_zeroes\n",
    "\n",
    "        # Once all values have been estimarted for a given hash function, calculate the estimated size and append it to the list of estimates\t\t\n",
    "        estimated_size_per_hash.append(math.pow(2, curr_hash_max_zeroes))\n",
    "    #print(estimated_size_per_hash)\n",
    "    # Slices the estimate in \"n_groups\", then for each group calculate the group average\n",
    "    group_avgs = []\n",
    "    for group_idx in range(0, n_groups):\n",
    "        group_sum = 0\n",
    "\n",
    "        # Loop over the rows in the group\n",
    "        for curr_row in range(0, n_rows):\n",
    "\n",
    "            # Get the row index to be fetched from \"estimated_size_per_hash\" which has all estimates\n",
    "            row_idx = group_idx*n_rows + curr_row\n",
    "\n",
    "            # Fetch the estimate for the current row and add it to the sum of estimates for the current group\n",
    "            group_sum += estimated_size_per_hash[row_idx]\n",
    "\n",
    "        # Calcualte the average for the current group and append it to the list of all group averages\n",
    "        group_avg = round(group_sum/n_rows)\n",
    "        group_avgs.append(group_avg)\n",
    "    \n",
    "    # Get the median  value from the group averages by sorting them and taking the middle number\n",
    "    group_avgs = sorted(group_avgs)\n",
    "    distinct_users_prediction = group_avgs[int(n_groups/2)]\n",
    "\n",
    "    # Then append the results to the output file\n",
    "    with open(output_filename, \"a\") as f_out:\n",
    "        f_out.write(\"\\n\"+str(ask_iteration)+\",\"+str(len(seen_users_truth))+\",\"+str(distinct_users_prediction))\n",
    "\n",
    "# Measure the total time taken and report it\n",
    "time_elapsed = time.time() - start_time\n",
    "print('Duration: {}'.format(time_elapsed))"
   ]
  },
  {
   "cell_type": "code",
   "execution_count": null,
   "id": "color-radiation",
   "metadata": {},
   "outputs": [],
   "source": []
  },
  {
   "cell_type": "code",
   "execution_count": null,
   "id": "dedicated-catholic",
   "metadata": {},
   "outputs": [],
   "source": []
  }
 ],
 "metadata": {
  "kernelspec": {
   "display_name": "Python 3",
   "language": "python",
   "name": "python3"
  },
  "language_info": {
   "codemirror_mode": {
    "name": "ipython",
    "version": 3
   },
   "file_extension": ".py",
   "mimetype": "text/x-python",
   "name": "python",
   "nbconvert_exporter": "python",
   "pygments_lexer": "ipython3",
   "version": "3.7.9"
  }
 },
 "nbformat": 4,
 "nbformat_minor": 5
}
