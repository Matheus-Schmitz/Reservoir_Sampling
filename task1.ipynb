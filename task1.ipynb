{
 "cells": [
  {
   "cell_type": "code",
   "execution_count": 1,
   "id": "bound-spring",
   "metadata": {},
   "outputs": [],
   "source": [
    "from task1 import myhashs"
   ]
  },
  {
   "cell_type": "code",
   "execution_count": 5,
   "id": "cathedral-scanning",
   "metadata": {},
   "outputs": [
    {
     "data": {
      "text/plain": [
       "[28649, 30495, 42313, 48078, 1789, 4016, 57324, 25601, 2211, 11507]"
      ]
     },
     "execution_count": 5,
     "metadata": {},
     "output_type": "execute_result"
    }
   ],
   "source": [
    "myhashs(\"Matheus\")"
   ]
  },
  {
   "cell_type": "code",
   "execution_count": null,
   "id": "noticed-funeral",
   "metadata": {},
   "outputs": [],
   "source": []
  }
 ],
 "metadata": {
  "kernelspec": {
   "display_name": "Python 3",
   "language": "python",
   "name": "python3"
  },
  "language_info": {
   "codemirror_mode": {
    "name": "ipython",
    "version": 3
   },
   "file_extension": ".py",
   "mimetype": "text/x-python",
   "name": "python",
   "nbconvert_exporter": "python",
   "pygments_lexer": "ipython3",
   "version": "3.7.9"
  }
 },
 "nbformat": 4,
 "nbformat_minor": 5
}
